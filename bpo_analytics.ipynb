{
 "cells": [
  {
   "cell_type": "code",
   "execution_count": 1,
   "id": "43cb8963",
   "metadata": {},
   "outputs": [
    {
     "name": "stdout",
     "output_type": "stream",
     "text": [
      "Loading and preparing the dataset...\n",
      "\n",
      "--- Discovered Topics from Customer Tweets ---\n",
      "Topic #0: amazon order delivery service days ive customer day received prime\n",
      "Topic #1: thank ticket que train good today la morning seat trains\n",
      "Topic #2: help flight number card need like thanks make im account\n",
      "Topic #3: phone update fix iphone internet ios working im problem issue\n",
      "Topic #4: just im got yes going waiting halloween minutes long time\n",
      "Topic #5: thanks service customer time just love got dont im amp\n",
      "Topic #6: just sent account dm email app know help tried message\n"
     ]
    }
   ],
   "source": [
    "import pandas as pd\n",
    "from sklearn.feature_extraction.text import CountVectorizer\n",
    "from sklearn.decomposition import LatentDirichletAllocation\n",
    "import re\n",
    "\n",
    "print(\"Loading and preparing the dataset...\")\n",
    "\n",
    "\n",
    "df = pd.read_csv('twcs.csv', nrows=50000)\n",
    "\n",
    "\n",
    "df_customer = df[df['inbound']==True].copy()\n",
    "df_customer.dropna(subset=['text'], inplace=True)\n",
    "df_customer['cleaned_text'] = df_customer['text'].apply(lambda x: re.sub(r'@\\w+', '', x.lower())) # Remove mentions and lowercase\n",
    "df_customer['cleaned_text'] = df_customer['cleaned_text'].apply(lambda x: re.sub(r'[^a-zA-Z\\s]', '', x)) # Remove special chars\n",
    "\n",
    "\n",
    "vectorizer = CountVectorizer(stop_words='english', max_df=0.9, min_df=5)\n",
    "X = vectorizer.fit_transform(df_customer['cleaned_text'])\n",
    "\n",
    "\n",
    "num_topics = 7\n",
    "lda = LatentDirichletAllocation(n_components=num_topics, random_state=42)\n",
    "lda.fit(X)\n",
    "\n",
    "\n",
    "def display_topics(model, feature_names, no_top_words):\n",
    "    for topic_idx, topic in enumerate(model.components_):\n",
    "        message = f\"Topic #{topic_idx}: \"\n",
    "        message += \" \".join([feature_names[i] for i in topic.argsort()[:-no_top_words - 1:-1]])\n",
    "        print(message)\n",
    "\n",
    "print(\"\\n--- Discovered Topics from Customer Tweets ---\")\n",
    "display_topics(lda, vectorizer.get_feature_names_out(), 10)"
   ]
  },
  {
   "cell_type": "code",
   "execution_count": 3,
   "id": "ff4a5e1b",
   "metadata": {},
   "outputs": [
    {
     "name": "stdout",
     "output_type": "stream",
     "text": [
      "--- Topic classification model has been trained. ---\n",
      "\n",
      "Classification Report:\n",
      "              precision    recall  f1-score   support\n",
      "\n",
      "           0       0.69      0.80      0.74      1091\n",
      "           1       0.76      0.59      0.66       459\n",
      "           2       0.68      0.65      0.66       744\n",
      "           3       0.74      0.77      0.75       774\n",
      "           4       0.70      0.70      0.70       771\n",
      "           5       0.70      0.69      0.69       852\n",
      "           6       0.74      0.68      0.71       792\n",
      "\n",
      "    accuracy                           0.71      5483\n",
      "   macro avg       0.71      0.70      0.70      5483\n",
      "weighted avg       0.71      0.71      0.71      5483\n",
      "\n",
      "\n",
      "--- Testing the model with new, unseen text ---\n",
      "Complaint: 'my package is late and the delivery date keeps changing'\n",
      "Predicted Topic #: 0\n"
     ]
    },
    {
     "name": "stderr",
     "output_type": "stream",
     "text": [
      "c:\\Users\\xavie\\Documents\\MyFirstMLProject\\.venv\\Lib\\site-packages\\sklearn\\linear_model\\_logistic.py:473: ConvergenceWarning: lbfgs failed to converge after 100 iteration(s) (status=1):\n",
      "STOP: TOTAL NO. OF ITERATIONS REACHED LIMIT\n",
      "\n",
      "Increase the number of iterations to improve the convergence (max_iter=100).\n",
      "You might also want to scale the data as shown in:\n",
      "    https://scikit-learn.org/stable/modules/preprocessing.html\n",
      "Please also refer to the documentation for alternative solver options:\n",
      "    https://scikit-learn.org/stable/modules/linear_model.html#logistic-regression\n",
      "  n_iter_i = _check_optimize_result(\n"
     ]
    }
   ],
   "source": [
    "from sklearn.model_selection import train_test_split\n",
    "from sklearn.linear_model import LogisticRegression\n",
    "from sklearn.metrics import classification_report\n",
    "from sklearn.feature_extraction.text import TfidfVectorizer\n",
    "\n",
    "topic_labels = lda.transform(X).argmax(axis=1)\n",
    "df_customer['topic'] = topic_labels\n",
    "\n",
    "X_text = df_customer['cleaned_text']\n",
    "y_topic = df_customer['topic']\n",
    "\n",
    "tfidf_vectorizer = TfidfVectorizer(max_features=1000, stop_words='english')\n",
    "\n",
    "X_tfidf = tfidf_vectorizer.fit_transform(X_text)\n",
    "\n",
    "X_train, X_test, y_train, y_test = train_test_split(X_tfidf, y_topic, test_size=0.2, random_state=42)\n",
    "\n",
    "classifier = LogisticRegression(random_state=42)\n",
    "classifier.fit(X_train, y_train)\n",
    "\n",
    "print(\"--- Topic classification model has been trained. ---\\n\")\n",
    "\n",
    "predictions = classifier.predict(X_test)\n",
    "print(\"Classification Report:\")\n",
    "print(classification_report(y_test, predictions))\n",
    "\n",
    "print(\"\\n--- Testing the model with new, unseen text ---\")\n",
    "new_complaint = \"my package is late and the delivery date keeps changing\"\n",
    "new_complaint_vec = tfidf_vectorizer.transform([new_complaint])\n",
    "predicted_topic = classifier.predict(new_complaint_vec)\n",
    "\n",
    "print(f\"Complaint: '{new_complaint}'\")\n",
    "print(f\"Predicted Topic #: {predicted_topic[0]}\")"
   ]
  }
 ],
 "metadata": {
  "kernelspec": {
   "display_name": ".venv",
   "language": "python",
   "name": "python3"
  },
  "language_info": {
   "codemirror_mode": {
    "name": "ipython",
    "version": 3
   },
   "file_extension": ".py",
   "mimetype": "text/x-python",
   "name": "python",
   "nbconvert_exporter": "python",
   "pygments_lexer": "ipython3",
   "version": "3.13.2"
  }
 },
 "nbformat": 4,
 "nbformat_minor": 5
}
